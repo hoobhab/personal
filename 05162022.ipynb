{
 "cells": [
  {
   "cell_type": "code",
   "execution_count": 88,
   "id": "5a236e2a-9e2b-41fe-a6ca-905cc302226b",
   "metadata": {},
   "outputs": [
    {
     "name": "stdin",
     "output_type": "stream",
     "text": [
      "Enter florophore value a\n",
      "Enter marker name b\n",
      "Enter barcode c\n"
     ]
    },
    {
     "name": "stdout",
     "output_type": "stream",
     "text": [
      "['a', 'b', 'c']\n",
      "['a', 'b', 'c']\n"
     ]
    }
   ],
   "source": [
    "# Marker tracker\n",
    "# User enters marker information. Markers are represented as lists with three attributes: fluorophore code, marker name, and \n",
    "# barcode.\n",
    "\n",
    "             \n",
    "def listPop():\n",
    "    for j in range(0, 3):\n",
    "        if j == 0:\n",
    "            markerListItem[0] = str(input(\"Enter florophore value\"))\n",
    "        elif j == 1:\n",
    "            markerListItem[1] = str(input(\"Enter marker name\"))\n",
    "        elif j == 2:\n",
    "            markerListItem[2] = str(input(\"Enter barcode\"))\n",
    "    \n",
    "    return markerListItem\n",
    "\n",
    "x = listPop()\n",
    "print(x)\n",
    "\n",
    "    \n",
    "    \n",
    "            \n",
    "  \n",
    "\n",
    "\n",
    "\n",
    "\n",
    "\n",
    "\n",
    "\n",
    "\n",
    "\n",
    "\n",
    "\n",
    "\n",
    "\n",
    "\n",
    "\n",
    "\n",
    "\n",
    "        \n",
    "   "
   ]
  },
  {
   "cell_type": "code",
   "execution_count": null,
   "id": "5bba99a4-bd1b-4830-ba22-2b8f2a893b46",
   "metadata": {},
   "outputs": [],
   "source": []
  },
  {
   "cell_type": "markdown",
   "id": "a7126ce9-da33-44e9-b458-bee64d989a5f",
   "metadata": {},
   "source": [
    "#### "
   ]
  },
  {
   "cell_type": "code",
   "execution_count": null,
   "id": "110c0dbd-1c0e-4fcc-a8f1-eb85e1636bd5",
   "metadata": {},
   "outputs": [],
   "source": []
  }
 ],
 "metadata": {
  "kernelspec": {
   "display_name": "Python 3 (ipykernel)",
   "language": "python",
   "name": "python3"
  },
  "language_info": {
   "codemirror_mode": {
    "name": "ipython",
    "version": 3
   },
   "file_extension": ".py",
   "mimetype": "text/x-python",
   "name": "python",
   "nbconvert_exporter": "python",
   "pygments_lexer": "ipython3",
   "version": "3.9.7"
  }
 },
 "nbformat": 4,
 "nbformat_minor": 5
}
